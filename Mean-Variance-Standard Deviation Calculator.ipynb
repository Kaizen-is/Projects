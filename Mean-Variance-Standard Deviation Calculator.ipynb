{
  "nbformat": 4,
  "nbformat_minor": 0,
  "metadata": {
    "colab": {
      "provenance": []
    },
    "kernelspec": {
      "name": "python3",
      "display_name": "Python 3"
    },
    "language_info": {
      "name": "python"
    }
  },
  "cells": [
    {
      "cell_type": "markdown",
      "source": [
        "### Mean-Variance-Standard Deviation Calculator"
      ],
      "metadata": {
        "id": "-5t2573waOzA"
      }
    },
    {
      "cell_type": "markdown",
      "source": [
        "    Create a function named calculate() in mean_var_std.py that uses\n",
        "    Numpy to output the mean, variance, standard deviation, max, min,\n",
        "    and sum of the rows, columns, and elements in a 3 x 3 matrix.\n",
        "\n",
        "    The input of the function should be a list containing 9 digits.\n",
        "    The function should convert the list into a 3 x 3 Numpy array, and then return a dictionary containing the mean,\n",
        "    variance, standard deviation, max, min, and sum along both axes and for the flattened matrix."
      ],
      "metadata": {
        "id": "goPrclknaXQh"
      }
    },
    {
      "cell_type": "markdown",
      "source": [
        "- Input: a list of 9 numbers.\n",
        "\n",
        "- You reshape this list into a 3×3 NumPy matrix.\n",
        "\n",
        "- Then you calculate summary statistics (mean, variance, standard deviation, max, min, sum) across:\n",
        "\n",
        "1. axis=0 (columns) → values stacked vertically\n",
        "\n",
        "2. axis=1 (rows) → values stacked horizontally\n",
        "\n",
        "3. flattened matrix → all 9 numbers at once"
      ],
      "metadata": {
        "id": "A7srxqAtauqc"
      }
    },
    {
      "cell_type": "markdown",
      "source": [
        "            \n",
        "            {'mean': [axis1, axis2, flattened],\n",
        "            'variance': [axis1, axis2, flattened],\n",
        "            'standard deviation': [axis1, axis2, flattened],\n",
        "            'max': [axis1, axis2, flattened],\n",
        "            'min': [axis1, axis2, flattened],\n",
        "            'sum': [axis1, axis2, flattened]}"
      ],
      "metadata": {
        "id": "kQHfXzPGbtk4"
      }
    },
    {
      "cell_type": "code",
      "execution_count": 24,
      "metadata": {
        "colab": {
          "base_uri": "https://localhost:8080/"
        },
        "id": "woIWK5UzaK8O",
        "outputId": "c478ae2f-5507-40fa-cac9-834021b1f188"
      },
      "outputs": [
        {
          "output_type": "stream",
          "name": "stdout",
          "text": [
            "{'mean': [[3.0, 4.0, 5.0], [1.0, 4.0, 7.0], 4.0], 'variance': [[6.0, 6.0, 6.0], [0.6666666666666666, 0.6666666666666666, 0.6666666666666666], 6.666666666666667], 'standard diviation': [[2.449489742783178, 2.449489742783178, 2.449489742783178], [0.816496580927726, 0.816496580927726, 0.816496580927726], 2.581988897471611], 'max': [[6, 7, 8], [2, 5, 8], 8], 'min': [[0, 1, 2], [0, 3, 6], 0], 'sum': [[9, 12, 15], [3, 12, 21], 36]}\n"
          ]
        }
      ],
      "source": [
        "import numpy as np\n",
        "\n",
        "result = {}\n",
        "listt = [0, 1, 2, 3, 4, 5, 6, 7, 8]\n",
        "\n",
        "if len(listt) == 9:\n",
        "  # mean ----------------------------------------------\n",
        "  matrix = np.array(listt).reshape(3, 3)\n",
        "  y_mean = matrix.mean(axis = 1).tolist()\n",
        "  x_mean = (matrix.mean(axis = 0)).tolist()\n",
        "  flat_mean = matrix.mean().tolist()\n",
        "  mean = []\n",
        "  mean.append(x_mean)\n",
        "  mean.append(y_mean)\n",
        "  mean.append(flat_mean)\n",
        "  result['mean'] = mean\n",
        "\n",
        "  # variance ------------------------------------------\n",
        "  y_var = np.var(matrix, axis = 1).tolist()\n",
        "  x_var = np.var(matrix, axis = 0).tolist()\n",
        "  flat_var = np.var(matrix).tolist()\n",
        "  var = []\n",
        "  var.append(x_var)\n",
        "  var.append(y_var)\n",
        "  var.append(flat_var)\n",
        "  result['variance'] = var\n",
        "\n",
        "  # standard diviation -------------------------------\n",
        "  y_std = matrix.std(axis = 1).tolist()\n",
        "  x_std = matrix.std(axis = 0).tolist()\n",
        "  flat_std = matrix.std().tolist()\n",
        "  std = []\n",
        "  std.append(x_std)\n",
        "  std.append(y_std)\n",
        "  std.append(flat_std)\n",
        "  result['standard diviation'] = std\n",
        "\n",
        "  # max ----------------------------------------------\n",
        "  y_max = matrix.max(axis = 1).tolist()\n",
        "  x_max = matrix.max(axis = 0).tolist()\n",
        "  flat_max = matrix.max().tolist()\n",
        "  max = []\n",
        "  max.append(x_max)\n",
        "  max.append(y_max)\n",
        "  max.append(flat_max)\n",
        "  result['max'] = max\n",
        "\n",
        "  # min ---------------------------------------------\n",
        "  y_min = matrix.min(axis = 1).tolist()\n",
        "  x_min = matrix.min(axis = 0).tolist()\n",
        "  flat_min = matrix.min().tolist()\n",
        "  min = []\n",
        "  min.append(x_min)\n",
        "  min.append(y_min)\n",
        "  min.append(flat_min)\n",
        "  result['min'] = min\n",
        "\n",
        "  # sum ---------------------------------------------\n",
        "  y_sum = matrix.sum(axis = 1).tolist()\n",
        "  x_sum = matrix.sum(axis = 0).tolist()\n",
        "  flat_sum = matrix.sum().tolist()\n",
        "  sum = []\n",
        "  sum.append(x_sum)\n",
        "  sum.append(y_sum)\n",
        "  sum.append(flat_sum)\n",
        "  result['sum'] = sum\n",
        "  print(result)\n",
        "\n",
        "else:\n",
        "  ValueError('List must contain 9 elements')"
      ]
    },
    {
      "cell_type": "code",
      "source": [
        "result"
      ],
      "metadata": {
        "colab": {
          "base_uri": "https://localhost:8080/"
        },
        "id": "mcB-YAluJZ7U",
        "outputId": "c50c12bf-51bb-4098-c044-6a52f060594a"
      },
      "execution_count": 25,
      "outputs": [
        {
          "output_type": "execute_result",
          "data": {
            "text/plain": [
              "{'mean': [[3.0, 4.0, 5.0], [1.0, 4.0, 7.0], 4.0],\n",
              " 'variance': [[6.0, 6.0, 6.0],\n",
              "  [0.6666666666666666, 0.6666666666666666, 0.6666666666666666],\n",
              "  6.666666666666667],\n",
              " 'standard diviation': [[2.449489742783178,\n",
              "   2.449489742783178,\n",
              "   2.449489742783178],\n",
              "  [0.816496580927726, 0.816496580927726, 0.816496580927726],\n",
              "  2.581988897471611],\n",
              " 'max': [[6, 7, 8], [2, 5, 8], 8],\n",
              " 'min': [[0, 1, 2], [0, 3, 6], 0],\n",
              " 'sum': [[9, 12, 15], [3, 12, 21], 36]}"
            ]
          },
          "metadata": {},
          "execution_count": 25
        }
      ]
    }
  ]
}